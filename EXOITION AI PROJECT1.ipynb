{
 "cells": [
  {
   "cell_type": "code",
   "execution_count": 1,
   "id": "d59e7d79",
   "metadata": {},
   "outputs": [],
   "source": [
    "import nltk\n",
    "import random\n",
    "from nltk.chat.util import Chat, reflections\n",
    "\n"
   ]
  },
  {
   "cell_type": "code",
   "execution_count": 2,
   "id": "5af343dc",
   "metadata": {},
   "outputs": [],
   "source": [
    "# Define pairs of patterns and responses\n",
    "pairs = [\n",
    "    [\n",
    "        r\"hi|hello|hey\",\n",
    "        [\"Hello!\", \"Hey there!\", \"Hi!\"]\n",
    "    ],\n",
    "    [\n",
    "        r\"how are you ?\",\n",
    "        [\"I'm doing well, thank you!\", \"I'm fine, thanks for asking!\"]\n",
    "    ],\n",
    "    [\n",
    "        r\"what is your name ?\",\n",
    "        [\"You can call me Chatbot.\", \"I'm just a chatbot.\", \"I'm Chatbot, nice to meet you!\"]\n",
    "    ],\n",
    "    [\n",
    "        r\"(.*) your name ?\",\n",
    "        [\"You can call me Chatbot.\", \"I'm just a chatbot.\", \"I'm Chatbot, nice to meet you!\"]\n",
    "    ],\n",
    "    [\n",
    "        r\"(.*) help (.*)\",\n",
    "        [\"I can help you with various topics. What do you need help with?\"]\n",
    "    ],\n",
    "    [\n",
    "        r\"(.*) (hungry|tired|sleepy)\",\n",
    "        [\"Maybe you should take a break and have a snack or rest.\", \"You should take care of yourself!\"]\n",
    "    ],\n",
    "    [\n",
    "        r\"(.*) (weather|temperature) ?\",\n",
    "        [\"I'm sorry, I don't have access to weather information right now.\"]\n",
    "    ],\n",
    "    [\n",
    "        r\"(.*) (goodbye|bye|see you)\",\n",
    "        [\"Goodbye!\", \"Bye! Take care!\", \"See you later!\"]\n",
    "    ],\n",
    "]\n",
    "\n"
   ]
  },
  {
   "cell_type": "code",
   "execution_count": 3,
   "id": "a34d576a",
   "metadata": {},
   "outputs": [],
   "source": [
    "# Create a chatbot instance\n",
    "chatbot = Chat(pairs, reflections)\n",
    "\n"
   ]
  },
  {
   "cell_type": "code",
   "execution_count": 4,
   "id": "778f19c7",
   "metadata": {},
   "outputs": [],
   "source": [
    "# Define a function to start and run the chatbot\n",
    "def chat():\n",
    "    print(\"Hello! I'm Chatbot. How can I assist you today?\")\n",
    "    while True:\n",
    "        user_input = input(\"You: \")\n",
    "        if user_input.lower() == 'quit':\n",
    "            break\n",
    "        response = chatbot.respond(user_input)\n",
    "        print(\"Chatbot:\", response)\n"
   ]
  },
  {
   "cell_type": "code",
   "execution_count": null,
   "id": "f74c9724",
   "metadata": {},
   "outputs": [
    {
     "name": "stdout",
     "output_type": "stream",
     "text": [
      "Hello! I'm Chatbot. How can I assist you today?\n",
      "You: hi\n",
      "Chatbot: Hey there!\n",
      "You: i am hanshu\n",
      "Chatbot: None\n"
     ]
    }
   ],
   "source": [
    "\n",
    "# Run the chatbot\n",
    "if __name__ == \"__main__\":\n",
    "    chat()\n"
   ]
  },
  {
   "cell_type": "code",
   "execution_count": null,
   "id": "bccf9662",
   "metadata": {},
   "outputs": [],
   "source": []
  }
 ],
 "metadata": {
  "kernelspec": {
   "display_name": "Python 3 (ipykernel)",
   "language": "python",
   "name": "python3"
  },
  "language_info": {
   "codemirror_mode": {
    "name": "ipython",
    "version": 3
   },
   "file_extension": ".py",
   "mimetype": "text/x-python",
   "name": "python",
   "nbconvert_exporter": "python",
   "pygments_lexer": "ipython3",
   "version": "3.11.5"
  }
 },
 "nbformat": 4,
 "nbformat_minor": 5
}
